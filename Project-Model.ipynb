{
 "cells": [
  {
   "cell_type": "code",
   "execution_count": 1,
   "id": "7fed4e68-9a83-46ae-a7d9-a06b77ea9919",
   "metadata": {},
   "outputs": [],
   "source": [
    "import pandas as pd\n",
    "import numpy as np\n",
    "import matplotlib.pyplot as plt\n",
    "from micromlgen import port"
   ]
  },
  {
   "cell_type": "code",
   "execution_count": 2,
   "id": "36ec77d7-bc3f-4325-bb2f-6428598b805e",
   "metadata": {},
   "outputs": [
    {
     "data": {
      "text/html": [
       "<div>\n",
       "<style scoped>\n",
       "    .dataframe tbody tr th:only-of-type {\n",
       "        vertical-align: middle;\n",
       "    }\n",
       "\n",
       "    .dataframe tbody tr th {\n",
       "        vertical-align: top;\n",
       "    }\n",
       "\n",
       "    .dataframe thead th {\n",
       "        text-align: right;\n",
       "    }\n",
       "</style>\n",
       "<table border=\"1\" class=\"dataframe\">\n",
       "  <thead>\n",
       "    <tr style=\"text-align: right;\">\n",
       "      <th></th>\n",
       "      <th>temperature</th>\n",
       "      <th>humidity</th>\n",
       "      <th>rainfall</th>\n",
       "      <th>label</th>\n",
       "    </tr>\n",
       "  </thead>\n",
       "  <tbody>\n",
       "    <tr>\n",
       "      <th>0</th>\n",
       "      <td>20.879744</td>\n",
       "      <td>82.002744</td>\n",
       "      <td>202.935536</td>\n",
       "      <td>rice</td>\n",
       "    </tr>\n",
       "    <tr>\n",
       "      <th>1</th>\n",
       "      <td>21.770462</td>\n",
       "      <td>80.319644</td>\n",
       "      <td>226.655537</td>\n",
       "      <td>rice</td>\n",
       "    </tr>\n",
       "    <tr>\n",
       "      <th>2</th>\n",
       "      <td>23.004459</td>\n",
       "      <td>82.320763</td>\n",
       "      <td>263.964248</td>\n",
       "      <td>rice</td>\n",
       "    </tr>\n",
       "    <tr>\n",
       "      <th>3</th>\n",
       "      <td>26.491096</td>\n",
       "      <td>80.158363</td>\n",
       "      <td>242.864034</td>\n",
       "      <td>rice</td>\n",
       "    </tr>\n",
       "    <tr>\n",
       "      <th>4</th>\n",
       "      <td>20.130175</td>\n",
       "      <td>81.604873</td>\n",
       "      <td>262.717340</td>\n",
       "      <td>rice</td>\n",
       "    </tr>\n",
       "    <tr>\n",
       "      <th>...</th>\n",
       "      <td>...</td>\n",
       "      <td>...</td>\n",
       "      <td>...</td>\n",
       "      <td>...</td>\n",
       "    </tr>\n",
       "    <tr>\n",
       "      <th>895</th>\n",
       "      <td>26.774637</td>\n",
       "      <td>66.413269</td>\n",
       "      <td>177.774507</td>\n",
       "      <td>coffee</td>\n",
       "    </tr>\n",
       "    <tr>\n",
       "      <th>896</th>\n",
       "      <td>27.417112</td>\n",
       "      <td>56.636362</td>\n",
       "      <td>127.924610</td>\n",
       "      <td>coffee</td>\n",
       "    </tr>\n",
       "    <tr>\n",
       "      <th>897</th>\n",
       "      <td>24.131797</td>\n",
       "      <td>67.225123</td>\n",
       "      <td>173.322839</td>\n",
       "      <td>coffee</td>\n",
       "    </tr>\n",
       "    <tr>\n",
       "      <th>898</th>\n",
       "      <td>26.272418</td>\n",
       "      <td>52.127394</td>\n",
       "      <td>127.175293</td>\n",
       "      <td>coffee</td>\n",
       "    </tr>\n",
       "    <tr>\n",
       "      <th>899</th>\n",
       "      <td>23.603016</td>\n",
       "      <td>60.396475</td>\n",
       "      <td>140.937041</td>\n",
       "      <td>coffee</td>\n",
       "    </tr>\n",
       "  </tbody>\n",
       "</table>\n",
       "<p>900 rows × 4 columns</p>\n",
       "</div>"
      ],
      "text/plain": [
       "     temperature   humidity    rainfall   label\n",
       "0      20.879744  82.002744  202.935536    rice\n",
       "1      21.770462  80.319644  226.655537    rice\n",
       "2      23.004459  82.320763  263.964248    rice\n",
       "3      26.491096  80.158363  242.864034    rice\n",
       "4      20.130175  81.604873  262.717340    rice\n",
       "..           ...        ...         ...     ...\n",
       "895    26.774637  66.413269  177.774507  coffee\n",
       "896    27.417112  56.636362  127.924610  coffee\n",
       "897    24.131797  67.225123  173.322839  coffee\n",
       "898    26.272418  52.127394  127.175293  coffee\n",
       "899    23.603016  60.396475  140.937041  coffee\n",
       "\n",
       "[900 rows x 4 columns]"
      ]
     },
     "execution_count": 2,
     "metadata": {},
     "output_type": "execute_result"
    }
   ],
   "source": [
    "data = pd.read_csv(r\"Crop_data.csv\")\n",
    "data"
   ]
  },
  {
   "cell_type": "code",
   "execution_count": 3,
   "id": "eca64d27-01cf-4a19-933e-5c0e8e3c443b",
   "metadata": {},
   "outputs": [
    {
     "data": {
      "text/html": [
       "<div>\n",
       "<style scoped>\n",
       "    .dataframe tbody tr th:only-of-type {\n",
       "        vertical-align: middle;\n",
       "    }\n",
       "\n",
       "    .dataframe tbody tr th {\n",
       "        vertical-align: top;\n",
       "    }\n",
       "\n",
       "    .dataframe thead th {\n",
       "        text-align: right;\n",
       "    }\n",
       "</style>\n",
       "<table border=\"1\" class=\"dataframe\">\n",
       "  <thead>\n",
       "    <tr style=\"text-align: right;\">\n",
       "      <th></th>\n",
       "      <th>temperature</th>\n",
       "      <th>humidity</th>\n",
       "      <th>rainfall</th>\n",
       "      <th>label</th>\n",
       "    </tr>\n",
       "  </thead>\n",
       "  <tbody>\n",
       "    <tr>\n",
       "      <th>min</th>\n",
       "      <td>10.010813</td>\n",
       "      <td>45.022364</td>\n",
       "      <td>40.126504</td>\n",
       "      <td>apple</td>\n",
       "    </tr>\n",
       "    <tr>\n",
       "      <th>max</th>\n",
       "      <td>35.990097</td>\n",
       "      <td>99.981876</td>\n",
       "      <td>298.560117</td>\n",
       "      <td>watermelon</td>\n",
       "    </tr>\n",
       "  </tbody>\n",
       "</table>\n",
       "</div>"
      ],
      "text/plain": [
       "     temperature   humidity    rainfall       label\n",
       "min    10.010813  45.022364   40.126504       apple\n",
       "max    35.990097  99.981876  298.560117  watermelon"
      ]
     },
     "execution_count": 3,
     "metadata": {},
     "output_type": "execute_result"
    }
   ],
   "source": [
    "data.agg(['min', 'max'])"
   ]
  },
  {
   "cell_type": "code",
   "execution_count": 4,
   "id": "bbfa068a-3666-44b1-91e6-f3ff3f038132",
   "metadata": {},
   "outputs": [
    {
     "data": {
      "text/plain": [
       "array(['rice', 'blackgram', 'mango', 'watermelon', 'apple', 'orange',\n",
       "       'coconut', 'cotton', 'coffee'], dtype=object)"
      ]
     },
     "execution_count": 4,
     "metadata": {},
     "output_type": "execute_result"
    }
   ],
   "source": [
    "features = data[['temperature', 'humidity', 'rainfall']]\n",
    "target = data['label']\n",
    "labels = data['label']\n",
    "acc = []\n",
    "model = []\n",
    "classname = data['label'].unique()\n",
    "classname"
   ]
  },
  {
   "cell_type": "code",
   "execution_count": 5,
   "id": "3bd5e77e-d09f-4681-8d8e-13c8d6969995",
   "metadata": {},
   "outputs": [
    {
     "data": {
      "text/plain": [
       "label\n",
       "rice          100\n",
       "blackgram     100\n",
       "mango         100\n",
       "watermelon    100\n",
       "apple         100\n",
       "orange        100\n",
       "coconut       100\n",
       "cotton        100\n",
       "coffee        100\n",
       "Name: count, dtype: int64"
      ]
     },
     "execution_count": 5,
     "metadata": {},
     "output_type": "execute_result"
    }
   ],
   "source": [
    "data['label'].value_counts()"
   ]
  },
  {
   "cell_type": "code",
   "execution_count": 6,
   "id": "238783a8-5962-42f0-b06d-008ad61b7b30",
   "metadata": {},
   "outputs": [
    {
     "name": "stderr",
     "output_type": "stream",
     "text": [
      "C:\\Users\\Admin\\anaconda3\\envs\\ML\\Lib\\site-packages\\sklearn\\utils\\validation.py:767: FutureWarning: is_sparse is deprecated and will be removed in a future version. Check `isinstance(dtype, pd.SparseDtype)` instead.\n",
      "  if not hasattr(array, \"sparse\") and array.dtypes.apply(is_sparse).any():\n",
      "C:\\Users\\Admin\\anaconda3\\envs\\ML\\Lib\\site-packages\\sklearn\\utils\\validation.py:605: FutureWarning: is_sparse is deprecated and will be removed in a future version. Check `isinstance(dtype, pd.SparseDtype)` instead.\n",
      "  if is_sparse(pd_dtype):\n",
      "C:\\Users\\Admin\\anaconda3\\envs\\ML\\Lib\\site-packages\\sklearn\\utils\\validation.py:614: FutureWarning: is_sparse is deprecated and will be removed in a future version. Check `isinstance(dtype, pd.SparseDtype)` instead.\n",
      "  if is_sparse(pd_dtype) or not is_extension_array_dtype(pd_dtype):\n",
      "C:\\Users\\Admin\\anaconda3\\envs\\ML\\Lib\\site-packages\\sklearn\\utils\\validation.py:605: FutureWarning: is_sparse is deprecated and will be removed in a future version. Check `isinstance(dtype, pd.SparseDtype)` instead.\n",
      "  if is_sparse(pd_dtype):\n",
      "C:\\Users\\Admin\\anaconda3\\envs\\ML\\Lib\\site-packages\\sklearn\\utils\\validation.py:614: FutureWarning: is_sparse is deprecated and will be removed in a future version. Check `isinstance(dtype, pd.SparseDtype)` instead.\n",
      "  if is_sparse(pd_dtype) or not is_extension_array_dtype(pd_dtype):\n"
     ]
    }
   ],
   "source": [
    "from sklearn.tree import DecisionTreeClassifier\n",
    "classifier = DecisionTreeClassifier(criterion=\"entropy\",random_state=2,max_depth=5).fit(features,target)"
   ]
  },
  {
   "cell_type": "code",
   "execution_count": 7,
   "id": "0ea94115-4b9a-4c33-ac1a-b5a58284e9c8",
   "metadata": {},
   "outputs": [
    {
     "name": "stdout",
     "output_type": "stream",
     "text": [
      "['apple']\n"
     ]
    },
    {
     "name": "stderr",
     "output_type": "stream",
     "text": [
      "C:\\Users\\Admin\\anaconda3\\envs\\ML\\Lib\\site-packages\\sklearn\\base.py:439: UserWarning: X does not have valid feature names, but DecisionTreeClassifier was fitted with feature names\n",
      "  warnings.warn(\n"
     ]
    }
   ],
   "source": [
    "demo = np.array([[22, 90, 120]])\n",
    "prediction = classifier.predict(demo)\n",
    "print(prediction)"
   ]
  },
  {
   "cell_type": "code",
   "execution_count": 8,
   "id": "f953b9ef-e49f-4820-8e5e-2ca8854d6960",
   "metadata": {
    "scrolled": true
   },
   "outputs": [
    {
     "name": "stdout",
     "output_type": "stream",
     "text": [
      "#pragma once\n",
      "#include <cstdarg>\n",
      "namespace Eloquent {\n",
      "    namespace ML {\n",
      "        namespace Port {\n",
      "            class DecisionTree {\n",
      "                public:\n",
      "                    /**\n",
      "                    * Predict class for features vector\n",
      "                    */\n",
      "                    int predict(float *x) {\n",
      "                        if (x[2] <= 100.05038452148438) {\n",
      "                            if (x[1] <= 72.48319625854492) {\n",
      "                                if (x[2] <= 82.10353469848633) {\n",
      "                                    return 1;\n",
      "                                }\n",
      "\n",
      "                                else {\n",
      "                                    return 5;\n",
      "                                }\n",
      "                            }\n",
      "\n",
      "                            else {\n",
      "                                if (x[2] <= 60.20680809020996) {\n",
      "                                    return 8;\n",
      "                                }\n",
      "\n",
      "                                else {\n",
      "                                    return 4;\n",
      "                                }\n",
      "                            }\n",
      "                        }\n",
      "\n",
      "                        else {\n",
      "                            if (x[1] <= 87.48764419555664) {\n",
      "                                if (x[1] <= 75.03537368774414) {\n",
      "                                    if (x[2] <= 107.98443603515625) {\n",
      "                                        return 5;\n",
      "                                    }\n",
      "\n",
      "                                    else {\n",
      "                                        return 3;\n",
      "                                    }\n",
      "                                }\n",
      "\n",
      "                                else {\n",
      "                                    return 7;\n",
      "                                }\n",
      "                            }\n",
      "\n",
      "                            else {\n",
      "                                if (x[2] <= 128.0365867614746) {\n",
      "                                    if (x[0] <= 24.059374809265137) {\n",
      "                                        if (x[0] <= 21.03426456451416) {\n",
      "                                            return 6;\n",
      "                                        }\n",
      "\n",
      "                                        else {\n",
      "                                            return 0;\n",
      "                                        }\n",
      "                                    }\n",
      "\n",
      "                                    else {\n",
      "                                        return 6;\n",
      "                                    }\n",
      "                                }\n",
      "\n",
      "                                else {\n",
      "                                    return 2;\n",
      "                                }\n",
      "                            }\n",
      "                        }\n",
      "                    }\n",
      "\n",
      "                    /**\n",
      "                    * Predict readable class name\n",
      "                    */\n",
      "                    const char* predictLabel(float *x) {\n",
      "                        return idxToLabel(predict(x));\n",
      "                    }\n",
      "\n",
      "                    /**\n",
      "                    * Convert class idx to readable name\n",
      "                    */\n",
      "                    const char* idxToLabel(uint8_t classIdx) {\n",
      "                        switch (classIdx) {\n",
      "                            case temperature:\n",
      "                            return \"0      20.879744\n",
      "                            1      21.770462\n",
      "                            2      23.004459\n",
      "                            3      26.491096\n",
      "                            4      20.130175\n",
      "                            ...\n",
      "                            895    26.774637\n",
      "                            896    27.417112\n",
      "                            897    24.131797\n",
      "                            898    26.272418\n",
      "                            899    23.603016\n",
      "                            Name: temperature, Length: 900, dtype: float64\";\n",
      "                            case humidity:\n",
      "                            return \"0      82.002744\n",
      "                            1      80.319644\n",
      "                            2      82.320763\n",
      "                            3      80.158363\n",
      "                            4      81.604873\n",
      "                            ...\n",
      "                            895    66.413269\n",
      "                            896    56.636362\n",
      "                            897    67.225123\n",
      "                            898    52.127394\n",
      "                            899    60.396475\n",
      "                            Name: humidity, Length: 900, dtype: float64\";\n",
      "                            case rainfall:\n",
      "                            return \"0      202.935536\n",
      "                            1      226.655537\n",
      "                            2      263.964248\n",
      "                            3      242.864034\n",
      "                            4      262.717340\n",
      "                            ...\n",
      "                            895    177.774507\n",
      "                            896    127.924610\n",
      "                            897    173.322839\n",
      "                            898    127.175293\n",
      "                            899    140.937041\n",
      "                            Name: rainfall, Length: 900, dtype: float64\";\n",
      "                            case label:\n",
      "                            return \"0        rice\n",
      "                            1        rice\n",
      "                            2        rice\n",
      "                            3        rice\n",
      "                            4        rice\n",
      "                            ...\n",
      "                            895    coffee\n",
      "                            896    coffee\n",
      "                            897    coffee\n",
      "                            898    coffee\n",
      "                            899    coffee\n",
      "                            Name: label, Length: 900, dtype: object\";\n",
      "                            default:\n",
      "                            return \"Houston we have a problem\";\n",
      "                        }\n",
      "                    }\n",
      "\n",
      "                protected:\n",
      "                };\n",
      "            }\n",
      "        }\n",
      "    }\n"
     ]
    }
   ],
   "source": [
    "c_code = port(classifier, classmap = data)\n",
    "print(c_code)"
   ]
  },
  {
   "cell_type": "code",
   "execution_count": null,
   "id": "a3bcf5da-f516-4084-84be-89d50fdcd7a6",
   "metadata": {},
   "outputs": [],
   "source": []
  }
 ],
 "metadata": {
  "kernelspec": {
   "display_name": "Python 3 (ipykernel)",
   "language": "python",
   "name": "python3"
  },
  "language_info": {
   "codemirror_mode": {
    "name": "ipython",
    "version": 3
   },
   "file_extension": ".py",
   "mimetype": "text/x-python",
   "name": "python",
   "nbconvert_exporter": "python",
   "pygments_lexer": "ipython3",
   "version": "3.11.7"
  }
 },
 "nbformat": 4,
 "nbformat_minor": 5
}
